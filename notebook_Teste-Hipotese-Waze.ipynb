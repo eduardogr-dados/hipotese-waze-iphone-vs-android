{
 "cells": [
  {
   "cell_type": "markdown",
   "id": "b43ceefc-0fcd-4eec-9fd0-2099f04a40a4",
   "metadata": {
    "id": "ysS5rgTMWpwL"
   },
   "source": [
    "# **Teste de Hipótese: Uso do Waze em iPhone vs. Android**"
   ]
  },
  {
   "cell_type": "markdown",
   "id": "dcd77497-4611-4ebe-a5d9-0d067fb865d0",
   "metadata": {
    "id": "psz51YkZVwtN"
   },
   "source": [
    "## **Planejamento**"
   ]
  },
  {
   "cell_type": "markdown",
   "id": "e1b08324-6a7a-4278-9f3a-dee8e95fdf31",
   "metadata": {
    "id": "lnRdR6eacUkK"
   },
   "source": [
    "### Informações sobre o conjunto de dados\n",
    "\n",
    "Este projeto utiliza um conjunto de dados chamado **`waze_dataset.csv`**, composto por **dados sintéticos criados para estudo** em parceria com o Waze. O conjunto conta com **14.999 linhas**, em que cada linha representa um único usuário, e **13 colunas** que armazenam informações diversas relacionadas ao comportamento de uso do aplicativo."
   ]
  },
  {
   "cell_type": "markdown",
   "id": "cf2114e0-a5c0-4e4a-9ad4-f5cadec795dc",
   "metadata": {},
   "source": [
    "| Nome da Coluna             | Tipo   | Descrição                                                                                                                                       |\n",
    "|----------------------------|--------|-------------------------------------------------------------------------------------------------------------------------------------------------|\n",
    "| ID                         | int    | Um índice numérico sequencial                                                                                                                   |\n",
    "| label                      | obj    | Variável alvo binária (“retenção” vs “cancelamento”) indicando se o usuário cancelou em algum momento durante o mês                           |\n",
    "| sessions                   | int    | Número de vezes que o usuário abriu o app durante o mês                                                                                         |\n",
    "| drives                     | int    | Ocorrência de uma direção de pelo menos 1 km durante o mês                                                                                      |\n",
    "| device                     | obj    | Tipo de dispositivo com o qual o usuário iniciou uma sessão                                                                                     |\n",
    "| total_sessions             | float  | Estimativa do modelo para o número total de sessões desde que o usuário começou a usar o app                                                   |\n",
    "| n_days_after_onboarding    | int    | Número de dias desde que o usuário se cadastrou no aplicativo                                                                                   |\n",
    "| total_navigations_fav1     | int    | Total de navegações desde o cadastro até o local favorito 1 do usuário                                                                          |\n",
    "| total_navigations_fav2     | int    | Total de navegações desde o cadastro até o local favorito 2 do usuário                                                                          |\n",
    "| driven_km_drives           | float  | Total de quilômetros dirigidos durante o mês                                                                                                    |\n",
    "| duration_minutes_drives    | float  | Duração total das viagens em minutos durante o mês                                                                                              |\n",
    "| activity_days              | int    | Número de dias em que o usuário abriu o app durante o mês                                                                                       |\n",
    "| driving_days               | int    | Número de dias em que o usuário dirigiu (pelo menos 1 km) durante o mês                                                                         |"
   ]
  },
  {
   "cell_type": "markdown",
   "id": "1dc358f6-b104-4d23-af3b-d6ef67f3d0e2",
   "metadata": {
    "id": "EAfj2mxlHyO3"
   },
   "source": [
    "### Objetivo  \n",
    "\n",
    "Usar o Teste de hipótese para analisar a relação entre a quantidade média de viagens e o tipo de dispositivo."
   ]
  },
  {
   "cell_type": "markdown",
   "id": "ac5f6d83-6c85-4978-b9bf-24f07a2b2c7d",
   "metadata": {
    "id": "Dfnvw1HZsfbd"
   },
   "source": [
    "## Etapa 1. Importação\n",
    "\n",
    "* Importar pacotes\n",
    "* Carregar conjunto de dados"
   ]
  },
  {
   "cell_type": "markdown",
   "id": "c8fdb47b-b2e6-4dd6-9447-054dce57293e",
   "metadata": {
    "id": "51UAXIOLC_8P",
    "jp-MarkdownHeadingCollapsed": true
   },
   "source": [
    "### 1. Importar pacotes"
   ]
  },
  {
   "cell_type": "code",
   "execution_count": 8,
   "id": "8c414ae2-9420-4dec-9105-82feda758693",
   "metadata": {
    "id": "1Q-GL2UrgWWG"
   },
   "outputs": [],
   "source": [
    "# ======================================\n",
    "# Importações de pacotes operacionais padrão\n",
    "# ======================================\n",
    "import numpy as np\n",
    "import pandas as pd\n",
    "\n",
    "# ======================================\n",
    "# Importações de pacotes de visualização\n",
    "# ======================================\n",
    "import matplotlib.pyplot as plt\n",
    "import seaborn as sns\n",
    "\n",
    "# ======================================\n",
    "# Operações estatísticas e de probabilidade\n",
    "# ======================================\n",
    "import scipy.stats as stats"
   ]
  },
  {
   "cell_type": "markdown",
   "id": "d56d5baf-0750-4266-818c-90e0eba21ed1",
   "metadata": {
    "id": "zM2P9yLWDIjN",
    "jp-MarkdownHeadingCollapsed": true
   },
   "source": [
    "### 2. Carregar conjunto de dados\n",
    "\n",
    "Leia o conjunto de dados chamado **`waze_dataset.csv`.** "
   ]
  },
  {
   "cell_type": "code",
   "execution_count": 10,
   "id": "da33fd8a-7946-4cf3-999a-2b13ce9e7e6b",
   "metadata": {
    "editable": true,
    "id": "Bs0cJR5BDPgQ",
    "slideshow": {
     "slide_type": ""
    },
    "tags": []
   },
   "outputs": [
    {
     "data": {
      "text/html": [
       "<div>\n",
       "<style scoped>\n",
       "    .dataframe tbody tr th:only-of-type {\n",
       "        vertical-align: middle;\n",
       "    }\n",
       "\n",
       "    .dataframe tbody tr th {\n",
       "        vertical-align: top;\n",
       "    }\n",
       "\n",
       "    .dataframe thead th {\n",
       "        text-align: right;\n",
       "    }\n",
       "</style>\n",
       "<table border=\"1\" class=\"dataframe\">\n",
       "  <thead>\n",
       "    <tr style=\"text-align: right;\">\n",
       "      <th></th>\n",
       "      <th>ID</th>\n",
       "      <th>label</th>\n",
       "      <th>sessions</th>\n",
       "      <th>drives</th>\n",
       "      <th>total_sessions</th>\n",
       "      <th>n_days_after_onboarding</th>\n",
       "      <th>total_navigations_fav1</th>\n",
       "      <th>total_navigations_fav2</th>\n",
       "      <th>driven_km_drives</th>\n",
       "      <th>duration_minutes_drives</th>\n",
       "      <th>activity_days</th>\n",
       "      <th>driving_days</th>\n",
       "      <th>device</th>\n",
       "    </tr>\n",
       "  </thead>\n",
       "  <tbody>\n",
       "    <tr>\n",
       "      <th>0</th>\n",
       "      <td>0</td>\n",
       "      <td>retained</td>\n",
       "      <td>283</td>\n",
       "      <td>226</td>\n",
       "      <td>296.748273</td>\n",
       "      <td>2276</td>\n",
       "      <td>208</td>\n",
       "      <td>0</td>\n",
       "      <td>2628.845068</td>\n",
       "      <td>1985.775061</td>\n",
       "      <td>28</td>\n",
       "      <td>19</td>\n",
       "      <td>Android</td>\n",
       "    </tr>\n",
       "    <tr>\n",
       "      <th>1</th>\n",
       "      <td>1</td>\n",
       "      <td>retained</td>\n",
       "      <td>133</td>\n",
       "      <td>107</td>\n",
       "      <td>326.896596</td>\n",
       "      <td>1225</td>\n",
       "      <td>19</td>\n",
       "      <td>64</td>\n",
       "      <td>13715.920550</td>\n",
       "      <td>3160.472914</td>\n",
       "      <td>13</td>\n",
       "      <td>11</td>\n",
       "      <td>iPhone</td>\n",
       "    </tr>\n",
       "    <tr>\n",
       "      <th>2</th>\n",
       "      <td>2</td>\n",
       "      <td>retained</td>\n",
       "      <td>114</td>\n",
       "      <td>95</td>\n",
       "      <td>135.522926</td>\n",
       "      <td>2651</td>\n",
       "      <td>0</td>\n",
       "      <td>0</td>\n",
       "      <td>3059.148818</td>\n",
       "      <td>1610.735904</td>\n",
       "      <td>14</td>\n",
       "      <td>8</td>\n",
       "      <td>Android</td>\n",
       "    </tr>\n",
       "    <tr>\n",
       "      <th>3</th>\n",
       "      <td>3</td>\n",
       "      <td>retained</td>\n",
       "      <td>49</td>\n",
       "      <td>40</td>\n",
       "      <td>67.589221</td>\n",
       "      <td>15</td>\n",
       "      <td>322</td>\n",
       "      <td>7</td>\n",
       "      <td>913.591123</td>\n",
       "      <td>587.196542</td>\n",
       "      <td>7</td>\n",
       "      <td>3</td>\n",
       "      <td>iPhone</td>\n",
       "    </tr>\n",
       "    <tr>\n",
       "      <th>4</th>\n",
       "      <td>4</td>\n",
       "      <td>retained</td>\n",
       "      <td>84</td>\n",
       "      <td>68</td>\n",
       "      <td>168.247020</td>\n",
       "      <td>1562</td>\n",
       "      <td>166</td>\n",
       "      <td>5</td>\n",
       "      <td>3950.202008</td>\n",
       "      <td>1219.555924</td>\n",
       "      <td>27</td>\n",
       "      <td>18</td>\n",
       "      <td>Android</td>\n",
       "    </tr>\n",
       "  </tbody>\n",
       "</table>\n",
       "</div>"
      ],
      "text/plain": [
       "   ID     label  sessions  drives  total_sessions  n_days_after_onboarding  \\\n",
       "0   0  retained       283     226      296.748273                     2276   \n",
       "1   1  retained       133     107      326.896596                     1225   \n",
       "2   2  retained       114      95      135.522926                     2651   \n",
       "3   3  retained        49      40       67.589221                       15   \n",
       "4   4  retained        84      68      168.247020                     1562   \n",
       "\n",
       "   total_navigations_fav1  total_navigations_fav2  driven_km_drives  \\\n",
       "0                     208                       0       2628.845068   \n",
       "1                      19                      64      13715.920550   \n",
       "2                       0                       0       3059.148818   \n",
       "3                     322                       7        913.591123   \n",
       "4                     166                       5       3950.202008   \n",
       "\n",
       "   duration_minutes_drives  activity_days  driving_days   device  \n",
       "0              1985.775061             28            19  Android  \n",
       "1              3160.472914             13            11   iPhone  \n",
       "2              1610.735904             14             8  Android  \n",
       "3               587.196542              7             3   iPhone  \n",
       "4              1219.555924             27            18  Android  "
      ]
     },
     "execution_count": 10,
     "metadata": {},
     "output_type": "execute_result"
    }
   ],
   "source": [
    "# Carregar o conjunto de dados em um dataframe\n",
    "df0 = pd.read_csv(r\"D:\\#1 Ofice Work\\#3 Projeto\\#2 Projetos de analise de dados\\Teste de Hipótese Uso do Waze\\Para GitHub\\waze_dataset.csv\")\n",
    "\n",
    "# Exibir as primeiras linhas do dataframe\n",
    "df0.head()"
   ]
  },
  {
   "cell_type": "markdown",
   "id": "c288b089-31ec-42c7-9e42-21da59ab830b",
   "metadata": {
    "id": "wF_LLorPs5G_"
   },
   "source": [
    "## Etapa 2. Exploração de dados (EDA inicial e limpeza de dados)\n",
    "\n",
    "- Entendendo as variáveis\n",
    "- Limpando o conjunto de dados (dados ausentes, dados redundantes, outliers)"
   ]
  },
  {
   "cell_type": "markdown",
   "id": "b5540678-7418-4185-9cec-cedb56818b81",
   "metadata": {
    "id": "3LF6h1v9FYz2",
    "jp-MarkdownHeadingCollapsed": true
   },
   "source": [
    "### 1. Reunir informações sobre os dados"
   ]
  },
  {
   "cell_type": "code",
   "execution_count": 13,
   "id": "b8505bcd-18e6-4dd0-9bb3-cedabdf4ff46",
   "metadata": {
    "id": "6XbfdPoKurMf"
   },
   "outputs": [
    {
     "name": "stdout",
     "output_type": "stream",
     "text": [
      "<class 'pandas.core.frame.DataFrame'>\n",
      "RangeIndex: 14999 entries, 0 to 14998\n",
      "Data columns (total 13 columns):\n",
      " #   Column                   Non-Null Count  Dtype  \n",
      "---  ------                   --------------  -----  \n",
      " 0   ID                       14999 non-null  int64  \n",
      " 1   label                    14299 non-null  object \n",
      " 2   sessions                 14999 non-null  int64  \n",
      " 3   drives                   14999 non-null  int64  \n",
      " 4   total_sessions           14999 non-null  float64\n",
      " 5   n_days_after_onboarding  14999 non-null  int64  \n",
      " 6   total_navigations_fav1   14999 non-null  int64  \n",
      " 7   total_navigations_fav2   14999 non-null  int64  \n",
      " 8   driven_km_drives         14999 non-null  float64\n",
      " 9   duration_minutes_drives  14999 non-null  float64\n",
      " 10  activity_days            14999 non-null  int64  \n",
      " 11  driving_days             14999 non-null  int64  \n",
      " 12  device                   14999 non-null  object \n",
      "dtypes: float64(3), int64(8), object(2)\n",
      "memory usage: 1.5+ MB\n"
     ]
    }
   ],
   "source": [
    "# Informações básicas\n",
    "df0.info()"
   ]
  },
  {
   "cell_type": "code",
   "execution_count": 14,
   "id": "319db8f2-f34c-4917-b2a8-6434cf1daa53",
   "metadata": {
    "id": "_5VRL-kzE8y1"
   },
   "outputs": [
    {
     "data": {
      "text/html": [
       "<div>\n",
       "<style scoped>\n",
       "    .dataframe tbody tr th:only-of-type {\n",
       "        vertical-align: middle;\n",
       "    }\n",
       "\n",
       "    .dataframe tbody tr th {\n",
       "        vertical-align: top;\n",
       "    }\n",
       "\n",
       "    .dataframe thead th {\n",
       "        text-align: right;\n",
       "    }\n",
       "</style>\n",
       "<table border=\"1\" class=\"dataframe\">\n",
       "  <thead>\n",
       "    <tr style=\"text-align: right;\">\n",
       "      <th></th>\n",
       "      <th>ID</th>\n",
       "      <th>sessions</th>\n",
       "      <th>drives</th>\n",
       "      <th>total_sessions</th>\n",
       "      <th>n_days_after_onboarding</th>\n",
       "      <th>total_navigations_fav1</th>\n",
       "      <th>total_navigations_fav2</th>\n",
       "      <th>driven_km_drives</th>\n",
       "      <th>duration_minutes_drives</th>\n",
       "      <th>activity_days</th>\n",
       "      <th>driving_days</th>\n",
       "    </tr>\n",
       "  </thead>\n",
       "  <tbody>\n",
       "    <tr>\n",
       "      <th>count</th>\n",
       "      <td>14999.000000</td>\n",
       "      <td>14999.000000</td>\n",
       "      <td>14999.000000</td>\n",
       "      <td>14999.000000</td>\n",
       "      <td>14999.000000</td>\n",
       "      <td>14999.000000</td>\n",
       "      <td>14999.000000</td>\n",
       "      <td>14999.000000</td>\n",
       "      <td>14999.000000</td>\n",
       "      <td>14999.000000</td>\n",
       "      <td>14999.000000</td>\n",
       "    </tr>\n",
       "    <tr>\n",
       "      <th>mean</th>\n",
       "      <td>7499.000000</td>\n",
       "      <td>80.633776</td>\n",
       "      <td>67.281152</td>\n",
       "      <td>189.964447</td>\n",
       "      <td>1749.837789</td>\n",
       "      <td>121.605974</td>\n",
       "      <td>29.672512</td>\n",
       "      <td>4039.340921</td>\n",
       "      <td>1860.976012</td>\n",
       "      <td>15.537102</td>\n",
       "      <td>12.179879</td>\n",
       "    </tr>\n",
       "    <tr>\n",
       "      <th>std</th>\n",
       "      <td>4329.982679</td>\n",
       "      <td>80.699065</td>\n",
       "      <td>65.913872</td>\n",
       "      <td>136.405128</td>\n",
       "      <td>1008.513876</td>\n",
       "      <td>148.121544</td>\n",
       "      <td>45.394651</td>\n",
       "      <td>2502.149334</td>\n",
       "      <td>1446.702288</td>\n",
       "      <td>9.004655</td>\n",
       "      <td>7.824036</td>\n",
       "    </tr>\n",
       "    <tr>\n",
       "      <th>min</th>\n",
       "      <td>0.000000</td>\n",
       "      <td>0.000000</td>\n",
       "      <td>0.000000</td>\n",
       "      <td>0.220211</td>\n",
       "      <td>4.000000</td>\n",
       "      <td>0.000000</td>\n",
       "      <td>0.000000</td>\n",
       "      <td>60.441250</td>\n",
       "      <td>18.282082</td>\n",
       "      <td>0.000000</td>\n",
       "      <td>0.000000</td>\n",
       "    </tr>\n",
       "    <tr>\n",
       "      <th>25%</th>\n",
       "      <td>3749.500000</td>\n",
       "      <td>23.000000</td>\n",
       "      <td>20.000000</td>\n",
       "      <td>90.661156</td>\n",
       "      <td>878.000000</td>\n",
       "      <td>9.000000</td>\n",
       "      <td>0.000000</td>\n",
       "      <td>2212.600607</td>\n",
       "      <td>835.996260</td>\n",
       "      <td>8.000000</td>\n",
       "      <td>5.000000</td>\n",
       "    </tr>\n",
       "    <tr>\n",
       "      <th>50%</th>\n",
       "      <td>7499.000000</td>\n",
       "      <td>56.000000</td>\n",
       "      <td>48.000000</td>\n",
       "      <td>159.568115</td>\n",
       "      <td>1741.000000</td>\n",
       "      <td>71.000000</td>\n",
       "      <td>9.000000</td>\n",
       "      <td>3493.858085</td>\n",
       "      <td>1478.249859</td>\n",
       "      <td>16.000000</td>\n",
       "      <td>12.000000</td>\n",
       "    </tr>\n",
       "    <tr>\n",
       "      <th>75%</th>\n",
       "      <td>11248.500000</td>\n",
       "      <td>112.000000</td>\n",
       "      <td>93.000000</td>\n",
       "      <td>254.192341</td>\n",
       "      <td>2623.500000</td>\n",
       "      <td>178.000000</td>\n",
       "      <td>43.000000</td>\n",
       "      <td>5289.861262</td>\n",
       "      <td>2464.362632</td>\n",
       "      <td>23.000000</td>\n",
       "      <td>19.000000</td>\n",
       "    </tr>\n",
       "    <tr>\n",
       "      <th>max</th>\n",
       "      <td>14998.000000</td>\n",
       "      <td>743.000000</td>\n",
       "      <td>596.000000</td>\n",
       "      <td>1216.154633</td>\n",
       "      <td>3500.000000</td>\n",
       "      <td>1236.000000</td>\n",
       "      <td>415.000000</td>\n",
       "      <td>21183.401890</td>\n",
       "      <td>15851.727160</td>\n",
       "      <td>31.000000</td>\n",
       "      <td>30.000000</td>\n",
       "    </tr>\n",
       "  </tbody>\n",
       "</table>\n",
       "</div>"
      ],
      "text/plain": [
       "                 ID      sessions        drives  total_sessions  \\\n",
       "count  14999.000000  14999.000000  14999.000000    14999.000000   \n",
       "mean    7499.000000     80.633776     67.281152      189.964447   \n",
       "std     4329.982679     80.699065     65.913872      136.405128   \n",
       "min        0.000000      0.000000      0.000000        0.220211   \n",
       "25%     3749.500000     23.000000     20.000000       90.661156   \n",
       "50%     7499.000000     56.000000     48.000000      159.568115   \n",
       "75%    11248.500000    112.000000     93.000000      254.192341   \n",
       "max    14998.000000    743.000000    596.000000     1216.154633   \n",
       "\n",
       "       n_days_after_onboarding  total_navigations_fav1  \\\n",
       "count             14999.000000            14999.000000   \n",
       "mean               1749.837789              121.605974   \n",
       "std                1008.513876              148.121544   \n",
       "min                   4.000000                0.000000   \n",
       "25%                 878.000000                9.000000   \n",
       "50%                1741.000000               71.000000   \n",
       "75%                2623.500000              178.000000   \n",
       "max                3500.000000             1236.000000   \n",
       "\n",
       "       total_navigations_fav2  driven_km_drives  duration_minutes_drives  \\\n",
       "count            14999.000000      14999.000000             14999.000000   \n",
       "mean                29.672512       4039.340921              1860.976012   \n",
       "std                 45.394651       2502.149334              1446.702288   \n",
       "min                  0.000000         60.441250                18.282082   \n",
       "25%                  0.000000       2212.600607               835.996260   \n",
       "50%                  9.000000       3493.858085              1478.249859   \n",
       "75%                 43.000000       5289.861262              2464.362632   \n",
       "max                415.000000      21183.401890             15851.727160   \n",
       "\n",
       "       activity_days  driving_days  \n",
       "count   14999.000000  14999.000000  \n",
       "mean       15.537102     12.179879  \n",
       "std         9.004655      7.824036  \n",
       "min         0.000000      0.000000  \n",
       "25%         8.000000      5.000000  \n",
       "50%        16.000000     12.000000  \n",
       "75%        23.000000     19.000000  \n",
       "max        31.000000     30.000000  "
      ]
     },
     "execution_count": 14,
     "metadata": {},
     "output_type": "execute_result"
    }
   ],
   "source": [
    "# Estatísticas descritivas para dados numéricos\n",
    "df0.describe()"
   ]
  },
  {
   "cell_type": "code",
   "execution_count": 15,
   "id": "716dc1c3-0d51-4939-b23b-7f6bc70659a2",
   "metadata": {},
   "outputs": [
    {
     "data": {
      "text/html": [
       "<div>\n",
       "<style scoped>\n",
       "    .dataframe tbody tr th:only-of-type {\n",
       "        vertical-align: middle;\n",
       "    }\n",
       "\n",
       "    .dataframe tbody tr th {\n",
       "        vertical-align: top;\n",
       "    }\n",
       "\n",
       "    .dataframe thead th {\n",
       "        text-align: right;\n",
       "    }\n",
       "</style>\n",
       "<table border=\"1\" class=\"dataframe\">\n",
       "  <thead>\n",
       "    <tr style=\"text-align: right;\">\n",
       "      <th></th>\n",
       "      <th>label</th>\n",
       "      <th>device</th>\n",
       "    </tr>\n",
       "  </thead>\n",
       "  <tbody>\n",
       "    <tr>\n",
       "      <th>count</th>\n",
       "      <td>14299</td>\n",
       "      <td>14999</td>\n",
       "    </tr>\n",
       "    <tr>\n",
       "      <th>unique</th>\n",
       "      <td>2</td>\n",
       "      <td>2</td>\n",
       "    </tr>\n",
       "    <tr>\n",
       "      <th>top</th>\n",
       "      <td>retained</td>\n",
       "      <td>iPhone</td>\n",
       "    </tr>\n",
       "    <tr>\n",
       "      <th>freq</th>\n",
       "      <td>11763</td>\n",
       "      <td>9672</td>\n",
       "    </tr>\n",
       "  </tbody>\n",
       "</table>\n",
       "</div>"
      ],
      "text/plain": [
       "           label  device\n",
       "count      14299   14999\n",
       "unique         2       2\n",
       "top     retained  iPhone\n",
       "freq       11763    9672"
      ]
     },
     "execution_count": 15,
     "metadata": {},
     "output_type": "execute_result"
    }
   ],
   "source": [
    "# Estatísticas descritivas para dados categóricos\n",
    "df0.describe(include=['object'])"
   ]
  },
  {
   "cell_type": "markdown",
   "id": "bb1872d9-577e-4af4-9854-70b0d0396c13",
   "metadata": {
    "id": "e-G2QlQxBq__",
    "jp-MarkdownHeadingCollapsed": true
   },
   "source": [
    "### 2. Valores ausentes"
   ]
  },
  {
   "cell_type": "markdown",
   "id": "5e1d9f12-c880-4bc1-aced-ec818975fb61",
   "metadata": {
    "id": "GeiUUqeaBt-I"
   },
   "source": [
    "Verificando se há valores ausentes nos dados."
   ]
  },
  {
   "cell_type": "code",
   "execution_count": 18,
   "id": "5caa7241-757c-4b47-9e54-d0884e8ab662",
   "metadata": {
    "id": "EN9MvN0GByVV"
   },
   "outputs": [
    {
     "name": "stdout",
     "output_type": "stream",
     "text": [
      "ID                           0\n",
      "label                      700\n",
      "sessions                     0\n",
      "drives                       0\n",
      "total_sessions               0\n",
      "n_days_after_onboarding      0\n",
      "total_navigations_fav1       0\n",
      "total_navigations_fav2       0\n",
      "driven_km_drives             0\n",
      "duration_minutes_drives      0\n",
      "activity_days                0\n",
      "driving_days                 0\n",
      "device                       0\n",
      "dtype: int64\n",
      "\n",
      "Total de valores nulos no DataFrame: 700\n"
     ]
    }
   ],
   "source": [
    "# Contar valores nulos em cada coluna\n",
    "null_count_per_column = df0.isnull().sum()\n",
    "\n",
    "# Contar o total de valores nulos em todo o DataFrame\n",
    "total_null_count = df0.isnull().sum().sum()\n",
    "\n",
    "print(null_count_per_column)\n",
    "print()\n",
    "print(\"Total de valores nulos no DataFrame:\", total_null_count)"
   ]
  },
  {
   "cell_type": "markdown",
   "id": "21b2904e-9711-4103-8abc-ec52e40cfdd6",
   "metadata": {},
   "source": [
    "<hr style=\"border: none; border-top: 1px dashed #ccc;\">"
   ]
  },
  {
   "cell_type": "markdown",
   "id": "291380a7-03ba-4518-8579-41de0bbc7578",
   "metadata": {},
   "source": [
    "Vou comparar as estatísticas de resumo das 700 linhas com valores ausentes com as estatísticas de resumo das linhas sem valores ausentes, com o objetivo de identificar se há diferença perceptível entre as duas populações."
   ]
  },
  {
   "cell_type": "code",
   "execution_count": 21,
   "id": "1208a696-cf51-4a45-a578-acedbf36c8c7",
   "metadata": {},
   "outputs": [
    {
     "data": {
      "text/html": [
       "<div>\n",
       "<style scoped>\n",
       "    .dataframe tbody tr th:only-of-type {\n",
       "        vertical-align: middle;\n",
       "    }\n",
       "\n",
       "    .dataframe tbody tr th {\n",
       "        vertical-align: top;\n",
       "    }\n",
       "\n",
       "    .dataframe thead th {\n",
       "        text-align: right;\n",
       "    }\n",
       "</style>\n",
       "<table border=\"1\" class=\"dataframe\">\n",
       "  <thead>\n",
       "    <tr style=\"text-align: right;\">\n",
       "      <th></th>\n",
       "      <th>ID</th>\n",
       "      <th>sessions</th>\n",
       "      <th>drives</th>\n",
       "      <th>total_sessions</th>\n",
       "      <th>n_days_after_onboarding</th>\n",
       "      <th>total_navigations_fav1</th>\n",
       "      <th>total_navigations_fav2</th>\n",
       "      <th>driven_km_drives</th>\n",
       "      <th>duration_minutes_drives</th>\n",
       "      <th>activity_days</th>\n",
       "      <th>driving_days</th>\n",
       "    </tr>\n",
       "  </thead>\n",
       "  <tbody>\n",
       "    <tr>\n",
       "      <th>count</th>\n",
       "      <td>700.000000</td>\n",
       "      <td>700.000000</td>\n",
       "      <td>700.000000</td>\n",
       "      <td>700.000000</td>\n",
       "      <td>700.000000</td>\n",
       "      <td>700.000000</td>\n",
       "      <td>700.000000</td>\n",
       "      <td>700.000000</td>\n",
       "      <td>700.000000</td>\n",
       "      <td>700.000000</td>\n",
       "      <td>700.000000</td>\n",
       "    </tr>\n",
       "    <tr>\n",
       "      <th>mean</th>\n",
       "      <td>7405.584286</td>\n",
       "      <td>80.837143</td>\n",
       "      <td>67.798571</td>\n",
       "      <td>198.483348</td>\n",
       "      <td>1709.295714</td>\n",
       "      <td>118.717143</td>\n",
       "      <td>30.371429</td>\n",
       "      <td>3935.967029</td>\n",
       "      <td>1795.123358</td>\n",
       "      <td>15.382857</td>\n",
       "      <td>12.125714</td>\n",
       "    </tr>\n",
       "    <tr>\n",
       "      <th>std</th>\n",
       "      <td>4306.900234</td>\n",
       "      <td>79.987440</td>\n",
       "      <td>65.271926</td>\n",
       "      <td>140.561715</td>\n",
       "      <td>1005.306562</td>\n",
       "      <td>156.308140</td>\n",
       "      <td>46.306984</td>\n",
       "      <td>2443.107121</td>\n",
       "      <td>1419.242246</td>\n",
       "      <td>8.772714</td>\n",
       "      <td>7.626373</td>\n",
       "    </tr>\n",
       "    <tr>\n",
       "      <th>min</th>\n",
       "      <td>77.000000</td>\n",
       "      <td>0.000000</td>\n",
       "      <td>0.000000</td>\n",
       "      <td>5.582648</td>\n",
       "      <td>16.000000</td>\n",
       "      <td>0.000000</td>\n",
       "      <td>0.000000</td>\n",
       "      <td>290.119811</td>\n",
       "      <td>66.588493</td>\n",
       "      <td>0.000000</td>\n",
       "      <td>0.000000</td>\n",
       "    </tr>\n",
       "    <tr>\n",
       "      <th>25%</th>\n",
       "      <td>3744.500000</td>\n",
       "      <td>23.000000</td>\n",
       "      <td>20.000000</td>\n",
       "      <td>94.056340</td>\n",
       "      <td>869.000000</td>\n",
       "      <td>4.000000</td>\n",
       "      <td>0.000000</td>\n",
       "      <td>2119.344818</td>\n",
       "      <td>779.009271</td>\n",
       "      <td>8.000000</td>\n",
       "      <td>6.000000</td>\n",
       "    </tr>\n",
       "    <tr>\n",
       "      <th>50%</th>\n",
       "      <td>7443.000000</td>\n",
       "      <td>56.000000</td>\n",
       "      <td>47.500000</td>\n",
       "      <td>177.255925</td>\n",
       "      <td>1650.500000</td>\n",
       "      <td>62.500000</td>\n",
       "      <td>10.000000</td>\n",
       "      <td>3421.156721</td>\n",
       "      <td>1414.966279</td>\n",
       "      <td>15.000000</td>\n",
       "      <td>12.000000</td>\n",
       "    </tr>\n",
       "    <tr>\n",
       "      <th>75%</th>\n",
       "      <td>11007.000000</td>\n",
       "      <td>112.250000</td>\n",
       "      <td>94.000000</td>\n",
       "      <td>266.058022</td>\n",
       "      <td>2508.750000</td>\n",
       "      <td>169.250000</td>\n",
       "      <td>43.000000</td>\n",
       "      <td>5166.097373</td>\n",
       "      <td>2443.955404</td>\n",
       "      <td>23.000000</td>\n",
       "      <td>18.000000</td>\n",
       "    </tr>\n",
       "    <tr>\n",
       "      <th>max</th>\n",
       "      <td>14993.000000</td>\n",
       "      <td>556.000000</td>\n",
       "      <td>445.000000</td>\n",
       "      <td>1076.879741</td>\n",
       "      <td>3498.000000</td>\n",
       "      <td>1096.000000</td>\n",
       "      <td>352.000000</td>\n",
       "      <td>15135.391280</td>\n",
       "      <td>9746.253023</td>\n",
       "      <td>31.000000</td>\n",
       "      <td>30.000000</td>\n",
       "    </tr>\n",
       "  </tbody>\n",
       "</table>\n",
       "</div>"
      ],
      "text/plain": [
       "                 ID    sessions      drives  total_sessions  \\\n",
       "count    700.000000  700.000000  700.000000      700.000000   \n",
       "mean    7405.584286   80.837143   67.798571      198.483348   \n",
       "std     4306.900234   79.987440   65.271926      140.561715   \n",
       "min       77.000000    0.000000    0.000000        5.582648   \n",
       "25%     3744.500000   23.000000   20.000000       94.056340   \n",
       "50%     7443.000000   56.000000   47.500000      177.255925   \n",
       "75%    11007.000000  112.250000   94.000000      266.058022   \n",
       "max    14993.000000  556.000000  445.000000     1076.879741   \n",
       "\n",
       "       n_days_after_onboarding  total_navigations_fav1  \\\n",
       "count               700.000000              700.000000   \n",
       "mean               1709.295714              118.717143   \n",
       "std                1005.306562              156.308140   \n",
       "min                  16.000000                0.000000   \n",
       "25%                 869.000000                4.000000   \n",
       "50%                1650.500000               62.500000   \n",
       "75%                2508.750000              169.250000   \n",
       "max                3498.000000             1096.000000   \n",
       "\n",
       "       total_navigations_fav2  driven_km_drives  duration_minutes_drives  \\\n",
       "count              700.000000        700.000000               700.000000   \n",
       "mean                30.371429       3935.967029              1795.123358   \n",
       "std                 46.306984       2443.107121              1419.242246   \n",
       "min                  0.000000        290.119811                66.588493   \n",
       "25%                  0.000000       2119.344818               779.009271   \n",
       "50%                 10.000000       3421.156721              1414.966279   \n",
       "75%                 43.000000       5166.097373              2443.955404   \n",
       "max                352.000000      15135.391280              9746.253023   \n",
       "\n",
       "       activity_days  driving_days  \n",
       "count     700.000000    700.000000  \n",
       "mean       15.382857     12.125714  \n",
       "std         8.772714      7.626373  \n",
       "min         0.000000      0.000000  \n",
       "25%         8.000000      6.000000  \n",
       "50%        15.000000     12.000000  \n",
       "75%        23.000000     18.000000  \n",
       "max        31.000000     30.000000  "
      ]
     },
     "execution_count": 21,
     "metadata": {},
     "output_type": "execute_result"
    }
   ],
   "source": [
    "# Isolar linhas com valores nulos na coluna 'label'\n",
    "mascara = df0['label'].isnull()\n",
    "df_nulos = df0[mascara]\n",
    "\n",
    "# Exibir estatísticas de resumo das linhas com valores nulos\n",
    "df_nulos.describe()"
   ]
  },
  {
   "cell_type": "code",
   "execution_count": 22,
   "id": "e66ae171-bf9b-469f-a1f9-a9cfa997af65",
   "metadata": {},
   "outputs": [
    {
     "data": {
      "text/html": [
       "<div>\n",
       "<style scoped>\n",
       "    .dataframe tbody tr th:only-of-type {\n",
       "        vertical-align: middle;\n",
       "    }\n",
       "\n",
       "    .dataframe tbody tr th {\n",
       "        vertical-align: top;\n",
       "    }\n",
       "\n",
       "    .dataframe thead th {\n",
       "        text-align: right;\n",
       "    }\n",
       "</style>\n",
       "<table border=\"1\" class=\"dataframe\">\n",
       "  <thead>\n",
       "    <tr style=\"text-align: right;\">\n",
       "      <th></th>\n",
       "      <th>ID</th>\n",
       "      <th>sessions</th>\n",
       "      <th>drives</th>\n",
       "      <th>total_sessions</th>\n",
       "      <th>n_days_after_onboarding</th>\n",
       "      <th>total_navigations_fav1</th>\n",
       "      <th>total_navigations_fav2</th>\n",
       "      <th>driven_km_drives</th>\n",
       "      <th>duration_minutes_drives</th>\n",
       "      <th>activity_days</th>\n",
       "      <th>driving_days</th>\n",
       "    </tr>\n",
       "  </thead>\n",
       "  <tbody>\n",
       "    <tr>\n",
       "      <th>count</th>\n",
       "      <td>14299.000000</td>\n",
       "      <td>14299.000000</td>\n",
       "      <td>14299.000000</td>\n",
       "      <td>14299.000000</td>\n",
       "      <td>14299.000000</td>\n",
       "      <td>14299.000000</td>\n",
       "      <td>14299.000000</td>\n",
       "      <td>14299.000000</td>\n",
       "      <td>14299.000000</td>\n",
       "      <td>14299.000000</td>\n",
       "      <td>14299.000000</td>\n",
       "    </tr>\n",
       "    <tr>\n",
       "      <th>mean</th>\n",
       "      <td>7503.573117</td>\n",
       "      <td>80.623820</td>\n",
       "      <td>67.255822</td>\n",
       "      <td>189.547409</td>\n",
       "      <td>1751.822505</td>\n",
       "      <td>121.747395</td>\n",
       "      <td>29.638296</td>\n",
       "      <td>4044.401535</td>\n",
       "      <td>1864.199794</td>\n",
       "      <td>15.544653</td>\n",
       "      <td>12.182530</td>\n",
       "    </tr>\n",
       "    <tr>\n",
       "      <th>std</th>\n",
       "      <td>4331.207621</td>\n",
       "      <td>80.736502</td>\n",
       "      <td>65.947295</td>\n",
       "      <td>136.189764</td>\n",
       "      <td>1008.663834</td>\n",
       "      <td>147.713428</td>\n",
       "      <td>45.350890</td>\n",
       "      <td>2504.977970</td>\n",
       "      <td>1448.005047</td>\n",
       "      <td>9.016088</td>\n",
       "      <td>7.833835</td>\n",
       "    </tr>\n",
       "    <tr>\n",
       "      <th>min</th>\n",
       "      <td>0.000000</td>\n",
       "      <td>0.000000</td>\n",
       "      <td>0.000000</td>\n",
       "      <td>0.220211</td>\n",
       "      <td>4.000000</td>\n",
       "      <td>0.000000</td>\n",
       "      <td>0.000000</td>\n",
       "      <td>60.441250</td>\n",
       "      <td>18.282082</td>\n",
       "      <td>0.000000</td>\n",
       "      <td>0.000000</td>\n",
       "    </tr>\n",
       "    <tr>\n",
       "      <th>25%</th>\n",
       "      <td>3749.500000</td>\n",
       "      <td>23.000000</td>\n",
       "      <td>20.000000</td>\n",
       "      <td>90.457733</td>\n",
       "      <td>878.500000</td>\n",
       "      <td>10.000000</td>\n",
       "      <td>0.000000</td>\n",
       "      <td>2217.319909</td>\n",
       "      <td>840.181344</td>\n",
       "      <td>8.000000</td>\n",
       "      <td>5.000000</td>\n",
       "    </tr>\n",
       "    <tr>\n",
       "      <th>50%</th>\n",
       "      <td>7504.000000</td>\n",
       "      <td>56.000000</td>\n",
       "      <td>48.000000</td>\n",
       "      <td>158.718571</td>\n",
       "      <td>1749.000000</td>\n",
       "      <td>71.000000</td>\n",
       "      <td>9.000000</td>\n",
       "      <td>3496.545617</td>\n",
       "      <td>1479.394387</td>\n",
       "      <td>16.000000</td>\n",
       "      <td>12.000000</td>\n",
       "    </tr>\n",
       "    <tr>\n",
       "      <th>75%</th>\n",
       "      <td>11257.500000</td>\n",
       "      <td>111.000000</td>\n",
       "      <td>93.000000</td>\n",
       "      <td>253.540450</td>\n",
       "      <td>2627.500000</td>\n",
       "      <td>178.000000</td>\n",
       "      <td>43.000000</td>\n",
       "      <td>5299.972162</td>\n",
       "      <td>2466.928876</td>\n",
       "      <td>23.000000</td>\n",
       "      <td>19.000000</td>\n",
       "    </tr>\n",
       "    <tr>\n",
       "      <th>max</th>\n",
       "      <td>14998.000000</td>\n",
       "      <td>743.000000</td>\n",
       "      <td>596.000000</td>\n",
       "      <td>1216.154633</td>\n",
       "      <td>3500.000000</td>\n",
       "      <td>1236.000000</td>\n",
       "      <td>415.000000</td>\n",
       "      <td>21183.401890</td>\n",
       "      <td>15851.727160</td>\n",
       "      <td>31.000000</td>\n",
       "      <td>30.000000</td>\n",
       "    </tr>\n",
       "  </tbody>\n",
       "</table>\n",
       "</div>"
      ],
      "text/plain": [
       "                 ID      sessions        drives  total_sessions  \\\n",
       "count  14299.000000  14299.000000  14299.000000    14299.000000   \n",
       "mean    7503.573117     80.623820     67.255822      189.547409   \n",
       "std     4331.207621     80.736502     65.947295      136.189764   \n",
       "min        0.000000      0.000000      0.000000        0.220211   \n",
       "25%     3749.500000     23.000000     20.000000       90.457733   \n",
       "50%     7504.000000     56.000000     48.000000      158.718571   \n",
       "75%    11257.500000    111.000000     93.000000      253.540450   \n",
       "max    14998.000000    743.000000    596.000000     1216.154633   \n",
       "\n",
       "       n_days_after_onboarding  total_navigations_fav1  \\\n",
       "count             14299.000000            14299.000000   \n",
       "mean               1751.822505              121.747395   \n",
       "std                1008.663834              147.713428   \n",
       "min                   4.000000                0.000000   \n",
       "25%                 878.500000               10.000000   \n",
       "50%                1749.000000               71.000000   \n",
       "75%                2627.500000              178.000000   \n",
       "max                3500.000000             1236.000000   \n",
       "\n",
       "       total_navigations_fav2  driven_km_drives  duration_minutes_drives  \\\n",
       "count            14299.000000      14299.000000             14299.000000   \n",
       "mean                29.638296       4044.401535              1864.199794   \n",
       "std                 45.350890       2504.977970              1448.005047   \n",
       "min                  0.000000         60.441250                18.282082   \n",
       "25%                  0.000000       2217.319909               840.181344   \n",
       "50%                  9.000000       3496.545617              1479.394387   \n",
       "75%                 43.000000       5299.972162              2466.928876   \n",
       "max                415.000000      21183.401890             15851.727160   \n",
       "\n",
       "       activity_days  driving_days  \n",
       "count   14299.000000  14299.000000  \n",
       "mean       15.544653     12.182530  \n",
       "std         9.016088      7.833835  \n",
       "min         0.000000      0.000000  \n",
       "25%         8.000000      5.000000  \n",
       "50%        16.000000     12.000000  \n",
       "75%        23.000000     19.000000  \n",
       "max        31.000000     30.000000  "
      ]
     },
     "execution_count": 22,
     "metadata": {},
     "output_type": "execute_result"
    }
   ],
   "source": [
    "# Exibir estatísticas de resumo das linhas sem valores nulos\n",
    "df_sem_nulos = df0[~mascara]\n",
    "\n",
    "df_sem_nulos.describe()"
   ]
  },
  {
   "cell_type": "markdown",
   "id": "bfe9baa2-f0cb-4a9c-a694-93f875a49db3",
   "metadata": {},
   "source": [
    ">Embora existam algumas diferenças entre as duas populações, elas não parecem ser substancialmente grandes ou sistemáticas o suficiente para indicar uma diferença claramente discernível."
   ]
  },
  {
   "cell_type": "markdown",
   "id": "b33d711c-ee5d-463f-8a15-11a42461fe34",
   "metadata": {},
   "source": [
    "<hr style=\"border: none; border-top: 1px dashed #ccc;\">"
   ]
  },
  {
   "cell_type": "markdown",
   "id": "488b81f2-4784-478d-b331-ecfe3cade8ef",
   "metadata": {},
   "source": [
    "Em seguida, verificarei as duas populações com relação à variável do `device`."
   ]
  },
  {
   "cell_type": "code",
   "execution_count": 26,
   "id": "7857ddc3-e184-437d-960a-d2b90a029e03",
   "metadata": {},
   "outputs": [
    {
     "data": {
      "text/plain": [
       "device\n",
       "iPhone     447\n",
       "Android    253\n",
       "Name: count, dtype: int64"
      ]
     },
     "execution_count": 26,
     "metadata": {},
     "output_type": "execute_result"
    }
   ],
   "source": [
    "# Obter a contagem de valores nulos por dispositivo\n",
    "df_nulos.value_counts(subset='device', ascending=False)"
   ]
  },
  {
   "cell_type": "markdown",
   "id": "e105ff3e-75a8-42c0-82e4-4ddd538f306f",
   "metadata": {},
   "source": [
    "Calcular a porcentagem com cada dispositivo - Android e iPhone. "
   ]
  },
  {
   "cell_type": "code",
   "execution_count": 28,
   "id": "bde92b81-f03b-4303-b1fd-9f1cb9de4a72",
   "metadata": {},
   "outputs": [
    {
     "name": "stdout",
     "output_type": "stream",
     "text": [
      "device\n",
      "iPhone     63.86%\n",
      "Android    36.14%\n",
      "Name: proportion, dtype: object\n"
     ]
    }
   ],
   "source": [
    "# Obter a contagem de valores nulos por dispositivo\n",
    "contagem = df_nulos.value_counts(subset='device', ascending=False, normalize=True)\n",
    "\n",
    "# Calcular a porcentagem\n",
    "porcentagem = contagem * 100\n",
    "\n",
    "# Formatar como string com símbolo de porcentagem\n",
    "porcentagem_formatada = porcentagem.apply(lambda x: f'{x:.2f}%')\n",
    "\n",
    "# Exibir resultados\n",
    "print(porcentagem_formatada)"
   ]
  },
  {
   "cell_type": "code",
   "execution_count": 29,
   "id": "9d93fe7d-ecae-4c8c-9d9c-d7bca4bb26b3",
   "metadata": {},
   "outputs": [
    {
     "name": "stdout",
     "output_type": "stream",
     "text": [
      "device\n",
      "iPhone     64.48%\n",
      "Android    35.52%\n",
      "Name: count, dtype: object\n"
     ]
    }
   ],
   "source": [
    "# Obter a contagem de valores por dispositivo\n",
    "contagem = df0.value_counts(subset='device', ascending=False)\n",
    "\n",
    "# Calcular o total de valores\n",
    "total = contagem.sum()\n",
    "\n",
    "# Calcular a porcentagem\n",
    "porcentagem = (contagem / total * 100).round(2)\n",
    "\n",
    "# Formatar como string com símbolo de porcentagem\n",
    "porcentagem_formatada = porcentagem.apply(lambda x: f'{x:.2f}%')\n",
    "\n",
    "# Exibir resultados\n",
    "print(porcentagem_formatada)"
   ]
  },
  {
   "cell_type": "markdown",
   "id": "a7549a5f-b105-4fc1-bdb8-40ad1d3389db",
   "metadata": {},
   "source": [
    "<hr style=\"border: none; border-top: 1px dashed #ccc;\">"
   ]
  },
  {
   "cell_type": "markdown",
   "id": "d1cf61a0-9787-499e-a0b1-d6975a9243cc",
   "metadata": {
    "jp-MarkdownHeadingCollapsed": true
   },
   "source": [
    "#### Observações:"
   ]
  },
  {
   "cell_type": "markdown",
   "id": "c6d49885-35f3-4f24-aec0-c1713041b78a",
   "metadata": {},
   "source": [
    "- A coluna `label` (que indica retenção/rotatividade) tem 700 valores ausentes (14999 - 14299), porém esta coluna não será diretamente usada *neste* teste de hipótese específico (iPhone vs Android).\n",
    "\n",
    "- As colunas `drives` e `device`, que são as chaves para o objetivo da análise, **não possuem valores ausentes** (14999 non-null).\n",
    "\n",
    "- A porcentagem de valores ausentes é consistente com sua representação nos dados em geral. Não há nada que sugira uma causa não aleatória para os dados ausentes."
   ]
  },
  {
   "cell_type": "markdown",
   "id": "476568d1-fafe-4a34-bf25-9e5bf0947350",
   "metadata": {
    "id": "hBvrijItKQI9",
    "jp-MarkdownHeadingCollapsed": true
   },
   "source": [
    "### 3. Verificar duplicatas"
   ]
  },
  {
   "cell_type": "markdown",
   "id": "de445c0e-5bac-4ded-833a-4f52c2e6429c",
   "metadata": {
    "id": "Q7ystBsdsGaL"
   },
   "source": [
    "Verificando se há entradas duplicadas nos dados."
   ]
  },
  {
   "cell_type": "code",
   "execution_count": 35,
   "id": "6da03673-39a1-46d5-b8b0-0eb4fd533b39",
   "metadata": {},
   "outputs": [
    {
     "name": "stdout",
     "output_type": "stream",
     "text": [
      "Número de linhas com dados duplicados: 0\n"
     ]
    }
   ],
   "source": [
    "# Checando por duplicatas\n",
    "colunas_avaliacao = ['label', 'sessions', 'drives', 'device', 'total_sessions',\n",
    "                     'n_days_after_onboarding', 'total_navigations_fav1', \n",
    "                     'total_navigations_fav2', 'driven_km_drives', \n",
    "                     'duration_minutes_drives', 'activity_days', 'driving_days']\n",
    "\n",
    "duplicates = df0[df0.duplicated(subset=colunas_avaliacao, keep=False)]\n",
    "\n",
    "print(f\"Número de linhas com dados duplicados: {len(duplicates)}\")"
   ]
  },
  {
   "cell_type": "markdown",
   "id": "7d0ec6d1-6506-49b5-a5bd-128358b2959f",
   "metadata": {
    "id": "hBvrijItKQI9",
    "jp-MarkdownHeadingCollapsed": true
   },
   "source": [
    "### 4. Verificar outliers"
   ]
  },
  {
   "cell_type": "markdown",
   "id": "cf888628-8a3d-428c-8936-542aff2b5d3d",
   "metadata": {},
   "source": [
    "Verificando se há valores discrepantes nos dados."
   ]
  },
  {
   "cell_type": "code",
   "execution_count": 38,
   "id": "7bb07161-0e61-40eb-8f16-6ef075d34efe",
   "metadata": {},
   "outputs": [
    {
     "name": "stdout",
     "output_type": "stream",
     "text": [
      "Estatísticas para detecção de outliers na coluna 'drives':\n",
      "Percentil 25%: 20.00\n",
      "Percentil 75%: 93.00\n",
      "IQR (Intervalo Interquartil): 73.00\n",
      "Limite inferior: -89.50\n",
      "Limite superior: 202.50\n",
      "Valores abaixo do limite inferior: 0\n",
      "Valores acima do limite superior: 734\n",
      "Percentual de outliers: 4.89%\n"
     ]
    }
   ],
   "source": [
    "percentile25 = df0['drives'].quantile(0.25)\n",
    "percentile75 = df0['drives'].quantile(0.75)\n",
    "iqr = percentile75 - percentile25\n",
    "upper_limit = percentile75 + 1.5 * iqr\n",
    "lower_limit = percentile25 - 1.5 * iqr\n",
    "\n",
    "print(f\"Estatísticas para detecção de outliers na coluna 'drives':\")\n",
    "print(f\"Percentil 25%: {percentile25:.2f}\")\n",
    "print(f\"Percentil 75%: {percentile75:.2f}\")\n",
    "print(f\"IQR (Intervalo Interquartil): {iqr:.2f}\")\n",
    "print(f\"Limite inferior: {lower_limit:.2f}\")\n",
    "print(f\"Limite superior: {upper_limit:.2f}\")\n",
    "print(f\"Valores abaixo do limite inferior: {sum(df0['drives'] < lower_limit)}\")\n",
    "print(f\"Valores acima do limite superior: {sum(df0['drives'] > upper_limit)}\")\n",
    "print(f\"Percentual de outliers: {((sum(df0['drives'] < lower_limit) + sum(df0['drives'] > upper_limit)) / len(df0) * 100):.2f}%\")\n"
   ]
  },
  {
   "cell_type": "code",
   "execution_count": 39,
   "id": "0a31f305-1e79-4e1f-8d0b-6bf3ddcf0de3",
   "metadata": {},
   "outputs": [],
   "source": [
    "# Função auxiliar para plotar histogramas \n",
    "def histogrammer(column_str, median_text=True, **kwargs):    # **kwargs = quaisquer argumentos de palavra-chave\n",
    "                                                            # da função sns.histplot()\n",
    "   median=round(df0[column_str].median(), 1)\n",
    "   plt.figure(figsize=(5,3))\n",
    "   ax = sns.histplot(x=df0[column_str], **kwargs)            # Plota o histograma\n",
    "   plt.axvline(median, color='red', linestyle='--')         # Plota a linha da mediana\n",
    "   if median_text==True:                                    # Adiciona texto da mediana a menos que seja False\n",
    "       ax.text(0.25, 0.85, f'mediana={median}', color='red',\n",
    "           ha='left', va='top', transform=ax.transAxes)\n",
    "   else:\n",
    "       print('Mediana:', median)\n",
    "   plt.title(f'Histograma de {column_str}');"
   ]
  },
  {
   "cell_type": "code",
   "execution_count": 40,
   "id": "557cddf0-cf69-42cf-a039-fbf309082253",
   "metadata": {},
   "outputs": [
    {
     "data": {
      "image/png": "[encoded data removed]",
      "text/plain": [
       "<Figure size 500x300 with 1 Axes>"
      ]
     },
     "metadata": {},
     "output_type": "display_data"
    }
   ],
   "source": [
    "# Histogram\n",
    "histogrammer('drives')"
   ]
  },
  {
   "cell_type": "markdown",
   "id": "a3ce6654-e307-4cd3-9b3f-39707028dec4",
   "metadata": {},
   "source": [
    ">O gráfico é inclinado para a direita, aproximadamente log-normal, com uma mediana de 48. No entanto, alguns motoristas tiveram mais de 400 viagens no último mês."
   ]
  },
  {
   "cell_type": "markdown",
   "id": "ba31c586-3483-4d16-86d3-112c309b4cf4",
   "metadata": {},
   "source": [
    "<hr style=\"border: none; border-top: 1px dashed #ccc;\">"
   ]
  },
  {
   "cell_type": "markdown",
   "id": "5578de85-769c-4450-9a9e-8df3e79feb82",
   "metadata": {},
   "source": [
    "Distribuição da variável do `device`."
   ]
  },
  {
   "cell_type": "code",
   "execution_count": 44,
   "id": "d0c1e4e3-e310-4e16-8689-86842d30f0e9",
   "metadata": {},
   "outputs": [
    {
     "data": {
      "text/plain": [
       "<matplotlib.legend.Legend at 0x1c37240a120>"
      ]
     },
     "execution_count": 44,
     "metadata": {},
     "output_type": "execute_result"
    },
    {
     "data": {
      "image/png": "[encoded data removed]",
      "text/plain": [
       "<Figure size 500x400 with 1 Axes>"
      ]
     },
     "metadata": {},
     "output_type": "display_data"
    }
   ],
   "source": [
    "# Pie chart\n",
    "device_counts = df0['device'].value_counts()\n",
    "\n",
    "# Definindo cores personalizadas para as fatias\n",
    "colors = ['#1ee594', '#ff7f4e'] \n",
    "\n",
    "# Agora, vamos criar o gráfico de pizza\n",
    "plt.figure(figsize=(5,4))\n",
    "plt.pie(device_counts, \n",
    "       labels=device_counts.index,\n",
    "       autopct='%1.1f%%',\n",
    "       colors=colors)\n",
    "\n",
    "# Adicionando título e legenda\n",
    "plt.title('Distribuição de aparelhos por usuário')\n",
    "plt.axis('equal')  # Para deixar o gráfico circular\n",
    "plt.legend(title='aparelhos', loc='upper left')\n"
   ]
  },
  {
   "cell_type": "markdown",
   "id": "decaa5f5-5172-4e26-bf75-402015659cf1",
   "metadata": {},
   "source": [
    ">Há quase duas vezes mais usuários de iPhone do que usuários de Android representados nesses dados."
   ]
  },
  {
   "cell_type": "markdown",
   "id": "1a461278-da8a-4329-85c9-749cbe3ca2ed",
   "metadata": {},
   "source": [
    "<hr style=\"border: none; border-top: 1px dashed #ccc;\">"
   ]
  },
  {
   "cell_type": "markdown",
   "id": "57c70b24-378b-499a-ab87-72c3c6e215e5",
   "metadata": {},
   "source": [
    "Os gráficos a seguir permitirão visualizar se a assimetria e a variabilidade se mantêm em ambos os grupos e dar uma ideia visual com uma representação visual."
   ]
  },
  {
   "cell_type": "code",
   "execution_count": 48,
   "id": "1c9fcba9-abef-4d0c-9ad8-20e2af7395f0",
   "metadata": {},
   "outputs": [
    {
     "data": {
      "text/plain": [
       "Text(48.1, 15.855, '48.00')"
      ]
     },
     "execution_count": 48,
     "metadata": {},
     "output_type": "execute_result"
    },
    {
     "data": {
      "image/png": "[encoded data removed]",
      "text/plain": [
       "<Figure size 800x600 with 1 Axes>"
      ]
     },
     "metadata": {},
     "output_type": "display_data"
    }
   ],
   "source": [
    "# Histogram\n",
    "plt.figure(figsize=(8, 6))\n",
    "sns.histplot(df0,\n",
    "             x='drives',\n",
    "             hue='device',\n",
    "             multiple='dodge',\n",
    "             shrink=0.9)\n",
    "plt.title('Comparação de Viagens (drives) por Dispositivo');\n",
    "plt.grid(True)\n",
    "\n",
    "# Calcular e marcar a mediana\n",
    "median = df0['drives'].median()\n",
    "plt.axvline(median, color='red', linestyle='--', label=f'Median={median:.2f}')\n",
    "plt.legend() \n",
    "plt.text(median + 0.1, plt.gca().get_ylim()[1]*0.02, f'{median:.2f}', color='red', fontsize=10)"
   ]
  },
  {
   "cell_type": "code",
   "execution_count": 49,
   "id": "13823166-2a7f-428c-b9a0-5a503e627357",
   "metadata": {},
   "outputs": [
    {
     "data": {
      "image/png": "[encoded data removed]",
      "text/plain": [
       "<Figure size 800x600 with 1 Axes>"
      ]
     },
     "metadata": {},
     "output_type": "display_data"
    }
   ],
   "source": [
    "# Box Plot\n",
    "plt.figure(figsize=(8, 6))\n",
    "sns.boxplot(data=df0, x='device', y='drives')\n",
    "plt.title('Comparação de Viagens (drives) por Dispositivo')\n",
    "plt.xlabel('Tipo de Dispositivo')\n",
    "plt.ylabel('Número de Viagens (drives)')\n",
    "plt.show()"
   ]
  },
  {
   "cell_type": "markdown",
   "id": "646aa015-3e33-4e15-aa83-6ff626acfd38",
   "metadata": {},
   "source": [
    "- Medianas (linha dentro da caixa) **quase idênticas**.\n",
    "- IQRs (altura da caixa) **muito similares**.\n",
    "- Extensão geral dos dados (whiskers) **semelhante**.\n",
    "- Presença de **muitos outliers superiores** em ambos os grupos, confirmando a assimetria."
   ]
  },
  {
   "cell_type": "markdown",
   "id": "8f31da2b-36ca-4f4e-8a48-44292ebc03c3",
   "metadata": {},
   "source": [
    "<hr style=\"border: none; border-top: 1px dashed #ccc;\">"
   ]
  },
  {
   "cell_type": "code",
   "execution_count": 52,
   "id": "50d184e9-779a-41fe-a389-fcbc110701e0",
   "metadata": {},
   "outputs": [
    {
     "name": "stdout",
     "output_type": "stream",
     "text": [
      "\n",
      "=== Estatísticas de Drives por Dispositivo ===\n",
      "         Média  Mediana\n",
      "device                 \n",
      "Android  66.23     47.0\n",
      "iPhone   67.86     48.0\n"
     ]
    }
   ],
   "source": [
    "# Calculando média e mediana dos drives agrupados por dispositivo\n",
    "stats_por_dispositivo = df0.groupby('device')['drives'].agg(['mean', 'median']).round(2)\n",
    "\n",
    "# Renomeando as colunas para melhor compreensão\n",
    "stats_por_dispositivo.columns = ['Média', 'Mediana']\n",
    "\n",
    "# Visualização\n",
    "print(\"\\n=== Estatísticas de Drives por Dispositivo ===\")\n",
    "print(stats_por_dispositivo.to_string())"
   ]
  },
  {
   "cell_type": "markdown",
   "id": "84bbbd35-4b77-4b3e-b9f8-bb77ef0194e2",
   "metadata": {},
   "source": [
    "<hr style=\"border: none; border-top: 1px dashed #ccc;\">"
   ]
  },
  {
   "cell_type": "markdown",
   "id": "a0200c44-ef89-429d-b0ee-19aea82a53ea",
   "metadata": {},
   "source": [
    "#### Observações:"
   ]
  },
  {
   "cell_type": "markdown",
   "id": "8f92f9a1-c782-4dc8-b6d9-5cdb39ab3b76",
   "metadata": {},
   "source": [
    "- A distribuição do número de viagens (drives) por dispositivo apresenta-se fortemente assimétrica (inclinado para a direita), o que é típico de dados que podem ser aproximados por uma distribuição log-normal. Essa assimetria fica clara pela presença de uma grande concentração de valores baixos e, ao mesmo tempo, alguns valores bastante elevados (acima de 400 viagens no mês) que acabam estendendo a cauda do histograma, por exemplo.\n",
    "\n",
    "- A mediana de 48 indica que mais da metade dos motoristas realiza até 48 viagens no período analisado, enquanto uma parcela relativamente pequena faz um número muito maior de viagens. Em situações como essa, a mediana costuma ser um indicador mais representativo do “valor central” do que a média, pois a presença de outliers ou valores extremos pode distorcer a média de forma significativa.\n",
    "\n",
    "- A sobreposição das barras por dispositivo (usando `hue='device'`) no histograma permite comparar, de maneira visual, como os diferentes dispositivos se distribuem em relação à quantidade de viagens. As distribuições apresentam grandes similaridades (por exemplo, picos semelhantes e caudas com extensão análoga), podemos inferir que os comportamentos de uso entre os dispositivos são parecidos.\n",
    "\n",
    "- O Box Plot comparativo sugere visualmente que *não* há uma diferença prática significativa nas distribuições centrais de `drives` entre os dois dispositivos.\n",
    "\n",
    "- Os valores estatísticos apresentados indicam que os dados de \"drives\" estão bastante equilibrados entre os dispositivos Android e iPhone. A média para o Android é 66,23 e para o iPhone é 67,86, enquanto as medianas são 47,0 e 48,0, respectivamente. Essa semelhança nos indicadores de tendência central sugere que, em termos de quantidade de viagens realizadas, o comportamento dos motoristas não difere substancialmente entre os grupos."
   ]
  },
  {
   "cell_type": "markdown",
   "id": "f49a0b66-0d11-47b6-b5eb-2dd6777eb942",
   "metadata": {},
   "source": [
    "---\n",
    "\n",
    "# **Analise**"
   ]
  },
  {
   "cell_type": "markdown",
   "id": "3013d00a-a90b-4c15-8c8b-94f67ce92a28",
   "metadata": {
    "id": "wF_LLorPs5G_"
   },
   "source": [
    "## Etapa 3. Teste de hipótese\n",
    "\n",
    "O objetivo é realizar um teste t de duas amostras:\n",
    "\n",
    "- Declarar a hipótese nula e a hipótese alternativa\n",
    "- Escolher um nível de significância\n",
    "- Encontrar o valor p\n",
    "- Rejeitar ou não rejeitar a hipótese nula"
   ]
  },
  {
   "cell_type": "markdown",
   "id": "65e490b4-8962-4c95-b6b9-7ad407c46091",
   "metadata": {
    "id": "phXxr74vVPrs"
   },
   "source": [
    "### 1. Hipóteses para esse projeto de dados:"
   ]
  },
  {
   "cell_type": "markdown",
   "id": "b606ba88-7316-40aa-b873-fe0d08060783",
   "metadata": {
    "id": "SkDeGggZYM84"
   },
   "source": [
    "- $H_0$: Não há diferença estatisticamente significativa entre a média de viagens (`drives`) de usuários de iPhone e a **média de viagens (`drives`)** de usuários de Android.\n",
    "\n",
    "- $H_A$: Existe uma diferença estatisticamente significativa entre a média de viagens (`drives`) de usuários de iPhone e a **média de viagens (`drives`)** de usuários de Android."
   ]
  },
  {
   "cell_type": "markdown",
   "id": "e18d7ab3-9085-48cf-8d1e-a67b5aeb53be",
   "metadata": {
    "id": "phXxr74vVPrs"
   },
   "source": [
    "### 2. Nível de significância:"
   ]
  },
  {
   "cell_type": "markdown",
   "id": "b8f8cef3-ba8c-4698-a665-4f8cc77df25d",
   "metadata": {},
   "source": [
    "Estabeleci o nível de significância em **α = 0.05**, o que corresponde a uma probabilidade de **5%** de cometer um erro do Tipo I (rejeitar a hipótese nula quando ela é verdadeira)."
   ]
  },
  {
   "cell_type": "markdown",
   "id": "8c98e987-78cf-48ab-8cd6-95da4c27ad91",
   "metadata": {
    "id": "phXxr74vVPrs"
   },
   "source": [
    "### 3. p-value:"
   ]
  },
  {
   "cell_type": "code",
   "execution_count": 92,
   "id": "2cee3755-16c6-45b7-997b-490efccdc15b",
   "metadata": {},
   "outputs": [
    {
     "data": {
      "text/plain": [
       "TtestResult(statistic=1.463523206885235, pvalue=0.143351972680206, df=11345.066049381952)"
      ]
     },
     "execution_count": 92,
     "metadata": {},
     "output_type": "execute_result"
    }
   ],
   "source": [
    "# 1. Isolar a coluna `drives` para os usuários do iPhone.\n",
    "df_iPhone = df0[df0['device'] == 'iPhone']\n",
    "\n",
    "# 2. Isolar a coluna `drives` para os usuários do Android.\n",
    "df_Android = df0[df0['device'] == 'Android']\n",
    "\n",
    "# 3. Realizar o teste t\n",
    "stats.ttest_ind(a=df_iPhone['drives'], b=df_Android['drives'], equal_var=False)"
   ]
  },
  {
   "cell_type": "markdown",
   "id": "29ebda6e-7b1d-4cf5-94b8-dbbde1b3baf8",
   "metadata": {},
   "source": [
    "> **Estatística t (`statistic`):** ~1.46. Este valor indica a diferença entre as médias dos grupos em termos de erro padrão.\n",
    " \n",
    "> **Valor-p (`pvalue`):** ~0.1434. Como o valor-p é **maior** que o nível de significância, **a hipótese nula não pode ser rejeitada. ($H_0$)**.\n",
    "\n",
    "> **Graus de Liberdade (`df`):** ~11345. Calculado pela aproximação de Welch-Satterthwaite, um método apropriado para estimar os graus de liberdade quando as variâncias dos dois grupos podem ser diferentes."
   ]
  },
  {
   "cell_type": "markdown",
   "id": "724fdb12-9bff-4882-bd0c-f4ce8272f30f",
   "metadata": {
    "id": "phXxr74vVPrs"
   },
   "source": [
    "### 4. Interpretação dos Resultados:"
   ]
  },
  {
   "cell_type": "markdown",
   "id": "5fa75ef1-c483-425e-8342-fb7f95681130",
   "metadata": {},
   "source": [
    "*   Comparação do valor-p com α: `0.1434 ≥ 0.05`.\n",
    " \n",
    "Com base neste teste, **não há evidência estatística suficiente** (ao nível de significância de 5%) para concluir que existe uma diferença real na média de viagens (`drives`) entre usuários de iPhone e usuários de Android no conjunto de dados.\n",
    "\n",
    "A pequena diferença nas médias observadas na análise exploratória (iPhone: 67.86, Android: 66.23) não é estatisticamente significativa; é provável que ela tenha ocorrido devido à variabilidade amostral aleatória."
   ]
  },
  {
   "cell_type": "markdown",
   "id": "ee1226aa-b7c6-4dd3-a643-4b770fc14949",
   "metadata": {
    "id": "wF_LLorPs5G_"
   },
   "source": [
    "## Conclusão"
   ]
  },
  {
   "cell_type": "markdown",
   "id": "c53ef183-819e-4fee-8c98-a78288336f87",
   "metadata": {},
   "source": [
    "1. O que foi observado sobre as distribuições nos dados?\n",
    "\n",
    "    *   A análise exploratória revelou que a distribuição do número de viagens mensais (`drives`) por usuário é **fortemente assimétrica à direita**. Isso significa que a maioria dos usuários realiza um número relativamente baixo de viagens, enquanto uma minoria de usuários (\"power users\") realiza um número muito alto de viagens, criando uma longa cauda nos histogramas. Consequentemente, a **média de viagens (aprox. 67) é consideravelmente maior que a mediana (48)**, sendo a mediana um indicador mais robusto do comportamento central neste caso. A análise de outliers pelo método IQR também confirmou a presença de um percentual significativo (aprox. 5%) de valores considerados altos.\n",
    "\n",
    "    *   Ao comparar as distribuições de `drives` entre usuários de **iPhone** e **Android**, observou-se uma **notável similaridade**. Tanto os histogramas quanto os box plots mostraram formas de distribuição, tendências centrais (medianas quase idênticas: 48 para iPhone, 47 para Android) e dispersão (intervalos interquartis e variabilidade geral) muito parecidas entre os dois grupos.\n",
    "\n",
    "2. Que insight(s) comercial(is) pode ser extraído do resultado do teste de hipótese?\n",
    "\n",
    "    *   Do ponto de vista de negócios, este resultado sugere que, no que diz respeito à frequência média de uso (medida por `drives`), os usuários de ambas as plataformas se comportam de maneira similar. Portanto, estratégias focadas em aumentar o número de viagens ou o engajamento geral podem, a princípio, ser aplicadas uniformemente entre os dois grupos de dispositivos, sem necessidade de segmentação específica por plataforma *para esta métrica*.\n",
    "\n",
    "    *   A ausência de diferença significativa aqui sugere que outros fatores (não analisados neste escopo, como tempo de uso do app, ou uso de funcionalidades específicas) podem ser mais relevantes para explicar variações no comportamento ou na retenção dos usuários. Investigações futuras poderiam explorar essas outras variáveis."
   ]
  }
 ],
 "metadata": {
  "kernelspec": {
   "display_name": "Python [conda env:base] *",
   "language": "python",
   "name": "conda-base-py"
  },
  "language_info": {
   "codemirror_mode": {
    "name": "ipython",
    "version": 3
   },
   "file_extension": ".py",
   "mimetype": "text/x-python",
   "name": "python",
   "nbconvert_exporter": "python",
   "pygments_lexer": "ipython3",
   "version": "3.12.7"
  }
 },
 "nbformat": 4,
 "nbformat_minor": 5
}
